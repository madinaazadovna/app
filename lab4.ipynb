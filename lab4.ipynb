{
 "cells": [
  {
   "cell_type": "markdown",
   "id": "f94aa5a2",
   "metadata": {},
   "source": [
    "Python date"
   ]
  },
  {
   "cell_type": "code",
   "execution_count": 2,
   "id": "91e87bcb",
   "metadata": {},
   "outputs": [
    {
     "name": "stdout",
     "output_type": "stream",
     "text": [
      "Current date: 2023-02-22 03:16:52.791125\n",
      "New date: 2023-02-17 03:16:52.791125\n"
     ]
    }
   ],
   "source": [
    "#ex1\n",
    "from datetime import datetime, timedelta\n",
    "current_date = datetime.today()\n",
    "new_date = current_date - timedelta(days=5)\n",
    "print(\"Current date:\", current_date)\n",
    "print(\"New date:\", new_date)"
   ]
  },
  {
   "cell_type": "code",
   "execution_count": 3,
   "id": "83fe4d4e",
   "metadata": {},
   "outputs": [
    {
     "name": "stdout",
     "output_type": "stream",
     "text": [
      "Yesterday: 2023-02-21\n",
      "Today: 2023-02-22\n",
      "Tomorrow: 2023-02-23\n"
     ]
    }
   ],
   "source": [
    "#ex2\n",
    "from datetime import datetime, timedelta\n",
    "current_date = datetime.now()\n",
    "yesterday = current_date - timedelta(days=1)\n",
    "tomorrow = current_date + timedelta(days=1)\n",
    "current_date_str = current_date.strftime(\"%Y-%m-%d\")\n",
    "yesterday_str = yesterday.strftime(\"%Y-%m-%d\")\n",
    "tomorrow_str = tomorrow.strftime(\"%Y-%m-%d\")\n",
    "print(\"Yesterday:\", yesterday_str)\n",
    "print(\"Today:\", current_date_str)\n",
    "print(\"Tomorrow:\", tomorrow_str)"
   ]
  },
  {
   "cell_type": "code",
   "execution_count": 4,
   "id": "828e0bf5",
   "metadata": {},
   "outputs": [
    {
     "name": "stdout",
     "output_type": "stream",
     "text": [
      "Original datetime: 2023-02-22 03:21:21.843634\n",
      "Datetime without microseconds: 2023-02-22 03:21:21\n"
     ]
    }
   ],
   "source": [
    "#ex3\n",
    "from datetime import datetime\n",
    "current_datetime = datetime.now()\n",
    "current_datetime_without_microseconds = current_datetime.replace(microsecond=0)\n",
    "print(\"Original datetime:\", current_datetime)\n",
    "print(\"Datetime without microseconds:\", current_datetime_without_microseconds)"
   ]
  },
  {
   "cell_type": "code",
   "execution_count": 5,
   "id": "86d6179b",
   "metadata": {},
   "outputs": [
    {
     "name": "stdout",
     "output_type": "stream",
     "text": [
      "The difference between the two dates is 77400.0 seconds.\n"
     ]
    }
   ],
   "source": [
    "#ex4\n",
    "from datetime import datetime\n",
    "date1 = datetime(2023, 2, 20, 12, 0, 0)\n",
    "date2 = datetime(2023, 2, 21, 9, 30, 0)\n",
    "date_diff = (date2 - date1).total_seconds()\n",
    "print(\"The difference between the two dates is\", date_diff, \"seconds.\")"
   ]
  },
  {
   "cell_type": "markdown",
   "id": "05a478c9",
   "metadata": {},
   "source": [
    "Python iterators and generators"
   ]
  },
  {
   "cell_type": "code",
   "execution_count": 7,
   "id": "a9d9c9a7",
   "metadata": {},
   "outputs": [
    {
     "name": "stdout",
     "output_type": "stream",
     "text": [
      "0\n",
      "1\n",
      "4\n",
      "9\n",
      "16\n",
      "[0, 1, 4, 9, 16]\n"
     ]
    }
   ],
   "source": [
    "#ex1\n",
    "def squares_generator(N):\n",
    "    for i in range(N):\n",
    "        yield i ** 2\n",
    "for square in squares_generator(5):\n",
    "    print(square)\n",
    "squares = [square for square in squares_generator(5)]\n",
    "print(squares)\n"
   ]
  },
  {
   "cell_type": "code",
   "execution_count": 8,
   "id": "94fa249e",
   "metadata": {},
   "outputs": [],
   "source": [
    "#ex2\n",
    "def even():\n",
    "    print(\"Enter a number:\", end=\" \")\n",
    "    n = int(input())\n",
    "    div = (x for x in range(0, n+1, 2))\n",
    "    for i in div:\n",
    "        print(i, end=\" \")"
   ]
  },
  {
   "cell_type": "code",
   "execution_count": 10,
   "id": "17deb0a1",
   "metadata": {},
   "outputs": [],
   "source": [
    "#ex3\n",
    "def divided():\n",
    "    print(\"Enter a number:\", end=\" \")\n",
    "    n = int(input())\n",
    "    div = (x for x in range(0, n+1, 12))\n",
    "    # or div=(x for x in range(n+1) if (x % 12 == 0))\n",
    "    for i in div:\n",
    "        print(i, end=' ')"
   ]
  },
  {
   "cell_type": "code",
   "execution_count": 11,
   "id": "d77bbe85",
   "metadata": {},
   "outputs": [],
   "source": [
    "#ex4\n",
    "def rev():\n",
    "    l = []\n",
    "    print(\"Enter a number:\", end=\" \")\n",
    "    n = int(input())\n",
    "    numbers = range(n, -1, -1)\n",
    "    for i in numbers:\n",
    "        l.append(i)\n",
    "    return l"
   ]
  },
  {
   "cell_type": "code",
   "execution_count": 12,
   "id": "94db109c",
   "metadata": {},
   "outputs": [],
   "source": [
    "#ex5\n",
    "def squares():\n",
    "    print(\"Enter a number a :\", end=\" \")\n",
    "    a = int(input())\n",
    "    print(\"Enter a number b :\", end=\" \")\n",
    "    b = int(input())\n",
    "    square = (x**2 for x in range(a, b+1))\n",
    "    for i in square:\n",
    "        print(i, end=\" \")"
   ]
  },
  {
   "cell_type": "markdown",
   "id": "da464139",
   "metadata": {},
   "source": [
    "Python Math library"
   ]
  },
  {
   "cell_type": "code",
   "execution_count": 1,
   "id": "eec8c2d3",
   "metadata": {},
   "outputs": [],
   "source": [
    "#ex1\n",
    "import math\n",
    "\n",
    "\n",
    "def degree_to_radian():\n",
    "    print(\"Input degree:\", end=\" \")\n",
    "    d = int(input())\n",
    "    r = math.radians(d)\n",
    "    print(f\"Output radian: {r:.6}\")\n",
    "\n",
    "\n",
    "def area_of_trapezoid():\n",
    "    print(\"Height:\", end=\" \")\n",
    "    h = int(input())\n",
    "    print(\"Base, first value:\", end=\" \")\n",
    "    b1 = int(input())\n",
    "    print(\"Base, second value:\", end=\" \")\n",
    "    b2 = int(input())\n",
    "    S = (b1+b2)/2*h\n",
    "    print(f\"Expected output: {S}\")\n",
    "\n",
    "\n",
    "def area_of_polygon():\n",
    "    print(\"Input number of sides:\", end=' ')\n",
    "    n = int(input())\n",
    "    print(\"Input the length of a side:\", end=\" \")\n",
    "    l = int(input())\n",
    "    A = n*l*(l/2)/math.tanh(180/n)/2\n",
    "    print(f\"The area of the polygon is:{A}\")\n",
    "\n",
    "\n",
    "def area_of_parallegram():\n",
    "    print(\"Length of base:\", end=\" \")\n",
    "    l = int(input())\n",
    "    print(\"Height of parallelogram:\", end=' ')\n",
    "    h = int(input())\n",
    "    print(f\"Expected Output:{l*h}\")"
   ]
  },
  {
   "cell_type": "markdown",
   "id": "5c9ba75e",
   "metadata": {},
   "source": [
    "python json\n"
   ]
  },
  {
   "cell_type": "code",
   "execution_count": 2,
   "id": "1d0f7e71",
   "metadata": {},
   "outputs": [
    {
     "name": "stdout",
     "output_type": "stream",
     "text": [
      "Interface Status\n",
      "================================================================================\n",
      "DN                                                       Description           Speed        MTU  \n",
      "--------------------------------------------------   --------------------      ------      ------\n",
      "topology/pod-1/node-201/sys/phys-[eth1/33]                                    inherit       9150\n",
      "\n",
      "topology/pod-1/node-201/sys/phys-[eth1/34]                                    inherit       9150\n",
      "\n",
      "topology/pod-1/node-201/sys/phys-[eth1/35]                                    inherit       9150\n",
      "\n",
      "topology/pod-1/node-201/sys/phys-[eth1/36]                                    inherit       9150\n",
      "\n",
      "topology/pod-1/node-201/sys/phys-[eth1/1]                                    inherit       9150\n",
      "\n",
      "topology/pod-1/node-201/sys/phys-[eth1/2]                                    inherit       9150\n",
      "\n",
      "topology/pod-1/node-201/sys/phys-[eth1/3]                                    inherit       9150\n",
      "\n",
      "topology/pod-1/node-201/sys/phys-[eth1/4]                                    inherit       9150\n",
      "\n",
      "topology/pod-1/node-201/sys/phys-[eth1/5]                                    inherit       9150\n",
      "\n",
      "topology/pod-1/node-201/sys/phys-[eth1/6]                                    inherit       9150\n",
      "\n",
      "topology/pod-1/node-201/sys/phys-[eth1/7]                                    inherit       9150\n",
      "\n",
      "topology/pod-1/node-201/sys/phys-[eth1/8]                                    inherit       9150\n",
      "\n",
      "topology/pod-1/node-201/sys/phys-[eth1/9]                                    inherit       9150\n",
      "\n",
      "topology/pod-1/node-201/sys/phys-[eth1/10]                                    inherit       9150\n",
      "\n",
      "topology/pod-1/node-201/sys/phys-[eth1/11]                                    inherit       9150\n",
      "\n",
      "topology/pod-1/node-201/sys/phys-[eth1/12]                                    inherit       9150\n",
      "\n",
      "topology/pod-1/node-201/sys/phys-[eth1/13]                                    inherit       9150\n",
      "\n",
      "topology/pod-1/node-201/sys/phys-[eth1/14]                                    inherit       9150\n",
      "\n"
     ]
    }
   ],
   "source": [
    "import json\n",
    "with open(\"sample-data.json\", \"r\") as read_file:\n",
    "    data = json.load(read_file)\n",
    "    print(\"Interface Status\")\n",
    "    print(\"================================================================================\")\n",
    "    print(\"DN                                                       Description           Speed        MTU  \")\n",
    "    print(\"--------------------------------------------------   --------------------      ------      ------\")\n",
    "    for s in range(18):\n",
    "        for x, y in data[\"imdata\"][s]['l1PhysIf'][\"attributes\"].items():\n",
    "            if x == 'dn':\n",
    "                print(y, end=\"                                    \")\n",
    "            if x == \"mtu\":\n",
    "                print(y, end=\"\")\n",
    "            if x == \"fecMode\":\n",
    "                print(y, end=\"       \")\n",
    "        print(\"\\n\")"
   ]
  },
  {
   "cell_type": "code",
   "execution_count": null,
   "id": "019309cb",
   "metadata": {},
   "outputs": [],
   "source": []
  }
 ],
 "metadata": {
  "kernelspec": {
   "display_name": "Python 3 (ipykernel)",
   "language": "python",
   "name": "python3"
  },
  "language_info": {
   "codemirror_mode": {
    "name": "ipython",
    "version": 3
   },
   "file_extension": ".py",
   "mimetype": "text/x-python",
   "name": "python",
   "nbconvert_exporter": "python",
   "pygments_lexer": "ipython3",
   "version": "3.9.13"
  }
 },
 "nbformat": 4,
 "nbformat_minor": 5
}
